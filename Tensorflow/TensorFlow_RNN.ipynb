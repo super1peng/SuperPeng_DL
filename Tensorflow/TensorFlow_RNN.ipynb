{
 "cells": [
  {
   "cell_type": "code",
   "execution_count": 1,
   "metadata": {},
   "outputs": [],
   "source": [
    "# RNN网络搭建\n",
    "# 数据集使用的是 mnist数据集"
   ]
  },
  {
   "cell_type": "code",
   "execution_count": 1,
   "metadata": {},
   "outputs": [
    {
     "name": "stdout",
     "output_type": "stream",
     "text": [
      "Packages imported\n",
      "Extracting data/train-images-idx3-ubyte.gz\n",
      "Extracting data/train-labels-idx1-ubyte.gz\n",
      "Extracting data/t10k-images-idx3-ubyte.gz\n",
      "Extracting data/t10k-labels-idx1-ubyte.gz\n",
      "MNIST Loaded\n"
     ]
    }
   ],
   "source": [
    "import tensorflow as tf\n",
    "import matplotlib.pyplot as plt\n",
    "from tensorflow.examples.tutorials.mnist import input_data\n",
    "import numpy as np\n",
    "\n",
    "print(\"Packages imported\")\n",
    "\n",
    "mnist = input_data.read_data_sets(\"data/\", one_hot=True)\n",
    "trainimgs, trainlabels, testimgs, testlabels = \\\n",
    "    mnist.train.images, mnist.train.labels, mnist.test.images, mnist.test.labels\n",
    "ntrain, ntest, dim, n_classes = trainimgs.shape[0], testimgs.shape[0],trainimgs.shape[1],trainlabels.shape[1]\n",
    "\n",
    "print(\"MNIST Loaded\")"
   ]
  },
  {
   "cell_type": "code",
   "execution_count": 2,
   "metadata": {},
   "outputs": [],
   "source": [
    "diminput = 28  # 输入层维度\n",
    "dimhidden = 128 # 隐藏层的权重维度为 28*128 输出的小大为 128*1\n",
    "dimoutput = n_classes\n",
    "nsteps = 28 # 把每个数据分成28个step依次传入构建的网络中\n",
    "\n",
    "weights = {\n",
    "    'hidden':tf.Variable(tf.random_normal([diminput, dimhidden])),\n",
    "    'out':tf.Variable(tf.random_normal([dimhidden, dimoutput]))\n",
    "}\n",
    "\n",
    "biases = {\n",
    "    'hidden':tf.Variable(tf.random_normal([dimhidden])),\n",
    "    'out':tf.Variable(tf.random_normal([dimoutput]))\n",
    "}"
   ]
  },
  {
   "cell_type": "code",
   "execution_count": 5,
   "metadata": {},
   "outputs": [
    {
     "name": "stdout",
     "output_type": "stream",
     "text": [
      "Network Ready\n"
     ]
    }
   ],
   "source": [
    "from tensorflow.contrib import rnn\n",
    "# 一个RNN网络的构建\n",
    "def _RNN(_X, _W, _b, _nsteps, _name):\n",
    "    # 输入的数据的每个维度为：[batchsize, netstep, diminput]\n",
    "    # 我们需要先把它转换成： [netstep, batchsize, diminput]\n",
    "    _X = tf.transpose(_X,[1,0,2])\n",
    "    # 然后转换数据的形状   这样可以共同训练 输入层到隐藏层之间的权重\n",
    "    _X = tf.reshape(_X, [-1,diminput])\n",
    "    \n",
    "    # 输入层 => 隐藏层\n",
    "    _H = tf.matmul(_X, _W['hidden']) + _b['hidden']\n",
    "    \n",
    "    _Hsplit = tf.split(_H, _nsteps,0 )\n",
    "    \n",
    "    with tf.variable_scope(_name ) as scope:\n",
    "        scope.reuse_variables()\n",
    "        \n",
    "        lstm_cell = tf.nn.rnn_cell.BasicLSTMCell(dimhidden, forget_bias=1.0)\n",
    "        _LSTM_O, _LSTM_S = rnn.static_rnn(lstm_cell, _Hsplit, dtype=tf.float32)\n",
    "    \n",
    "    # 输出层\n",
    "    _O = tf.matmul(_LSTM_O[-1], _W['out']) + _b['out']\n",
    "    \n",
    "    return {\n",
    "        'X':_X, 'H':_H,'Hsplit':_Hsplit,\n",
    "        'LSTM_O':_LSTM_O,'LSTM_S':_LSTM_S,'O':_O\n",
    "    }\n",
    "print(\"Network Ready\")"
   ]
  },
  {
   "cell_type": "code",
   "execution_count": 6,
   "metadata": {},
   "outputs": [
    {
     "name": "stdout",
     "output_type": "stream",
     "text": [
      "WARNING:tensorflow:From <ipython-input-6-73d432a456e0>:8: softmax_cross_entropy_with_logits (from tensorflow.python.ops.nn_ops) is deprecated and will be removed in a future version.\n",
      "Instructions for updating:\n",
      "\n",
      "Future major versions of TensorFlow will allow gradients to flow\n",
      "into the labels input on backprop by default.\n",
      "\n",
      "See tf.nn.softmax_cross_entropy_with_logits_v2.\n",
      "\n",
      "Network Ready!\n"
     ]
    }
   ],
   "source": [
    "# 用 TensorFlow 定义一些操作\n",
    "learning_rate = 0.001\n",
    "x      = tf.placeholder(\"float\", [None, nsteps, diminput]) # 输入\n",
    "y      = tf.placeholder(\"float\", [None, dimoutput])  # 输出\n",
    "\n",
    "myrnn  = _RNN(x, weights, biases, nsteps, 'basic')\n",
    "pred   = myrnn['O']  # 得到预测值\n",
    "cost   = tf.reduce_mean(tf.nn.softmax_cross_entropy_with_logits(logits=pred, labels=y))  # 损失函数\n",
    "optm   = tf.train.GradientDescentOptimizer(learning_rate).minimize(cost) # Adam Optimizer\n",
    "accr   = tf.reduce_mean(tf.cast(tf.equal(tf.argmax(pred,1), tf.argmax(y,1)), tf.float32))\n",
    "init   = tf.global_variables_initializer()\n",
    "print (\"Network Ready!\")\n"
   ]
  },
  {
   "cell_type": "code",
   "execution_count": 9,
   "metadata": {},
   "outputs": [
    {
     "name": "stdout",
     "output_type": "stream",
     "text": [
      "Start optimization\n",
      "Epoch: 000/015 cost: 1.752700942\n",
      " Training accuracy: 0.562\n",
      " Test accuracy: 0.447\n",
      "Epoch: 001/015 cost: 1.334377567\n",
      " Training accuracy: 0.375\n",
      " Test accuracy: 0.516\n",
      "Epoch: 002/015 cost: 1.171451274\n",
      " Training accuracy: 0.688\n",
      " Test accuracy: 0.522\n",
      "Epoch: 003/015 cost: 1.025814539\n",
      " Training accuracy: 0.688\n",
      " Test accuracy: 0.609\n",
      "Epoch: 004/015 cost: 0.958811806\n",
      " Training accuracy: 0.562\n",
      " Test accuracy: 0.598\n",
      "Epoch: 005/015 cost: 0.880201100\n",
      " Training accuracy: 0.875\n",
      " Test accuracy: 0.659\n",
      "Epoch: 006/015 cost: 0.790639217\n",
      " Training accuracy: 0.875\n",
      " Test accuracy: 0.684\n",
      "Epoch: 007/015 cost: 0.758282970\n",
      " Training accuracy: 0.625\n",
      " Test accuracy: 0.706\n",
      "Epoch: 008/015 cost: 0.690140132\n",
      " Training accuracy: 0.875\n",
      " Test accuracy: 0.716\n",
      "Epoch: 009/015 cost: 0.658807516\n",
      " Training accuracy: 0.688\n",
      " Test accuracy: 0.697\n",
      "Epoch: 010/015 cost: 0.634672035\n",
      " Training accuracy: 0.688\n",
      " Test accuracy: 0.698\n",
      "Epoch: 011/015 cost: 0.582864018\n",
      " Training accuracy: 0.688\n",
      " Test accuracy: 0.727\n",
      "Epoch: 012/015 cost: 0.576141170\n",
      " Training accuracy: 0.875\n",
      " Test accuracy: 0.731\n",
      "Epoch: 013/015 cost: 0.562362149\n",
      " Training accuracy: 0.875\n",
      " Test accuracy: 0.737\n",
      "Epoch: 014/015 cost: 0.510760170\n",
      " Training accuracy: 0.812\n",
      " Test accuracy: 0.766\n",
      "Optimization Finished.\n"
     ]
    }
   ],
   "source": [
    "training_epochs = 15\n",
    "batch_size      = 16\n",
    "display_step    = 1\n",
    "sess = tf.Session()\n",
    "sess.run(init)\n",
    "print (\"Start optimization\")\n",
    "for epoch in range(training_epochs):\n",
    "    avg_cost = 0.\n",
    "    #total_batch = int(mnist.train.num_examples/batch_size)\n",
    "    total_batch = 100\n",
    "    \n",
    "    # Loop over all batches\n",
    "    for i in range(total_batch):\n",
    "        batch_xs, batch_ys = mnist.train.next_batch(batch_size)\n",
    "        batch_xs = batch_xs.reshape((batch_size, nsteps, diminput))\n",
    "        # Fit training using batch data\n",
    "        feeds = {x: batch_xs, y: batch_ys}\n",
    "        sess.run(optm, feed_dict=feeds)\n",
    "        # Compute average loss\n",
    "        avg_cost += sess.run(cost, feed_dict=feeds)/total_batch\n",
    "    # Display logs per epoch step\n",
    "    if epoch % display_step == 0: \n",
    "        print (\"Epoch: %03d/%03d cost: %.9f\" % (epoch, training_epochs, avg_cost))\n",
    "        feeds = {x: batch_xs, y: batch_ys}\n",
    "        train_acc = sess.run(accr, feed_dict=feeds)   \n",
    "        print (\" Training accuracy: %.3f\" % (train_acc))\n",
    "        testimgs = testimgs.reshape((ntest, nsteps, diminput))\n",
    "        feeds = {x: testimgs, y: testlabels}\n",
    "        test_acc = sess.run(accr, feed_dict=feeds)  # 这里原有的代码还增加了：istate: np.zeros((ntest, 2*dimhidden))\n",
    "        print (\" Test accuracy: %.3f\" % (test_acc))\n",
    "print (\"Optimization Finished.\")"
   ]
  },
  {
   "cell_type": "code",
   "execution_count": null,
   "metadata": {},
   "outputs": [],
   "source": []
  }
 ],
 "metadata": {
  "kernelspec": {
   "display_name": "Python 3",
   "language": "python",
   "name": "python3"
  },
  "language_info": {
   "codemirror_mode": {
    "name": "ipython",
    "version": 3
   },
   "file_extension": ".py",
   "mimetype": "text/x-python",
   "name": "python",
   "nbconvert_exporter": "python",
   "pygments_lexer": "ipython3",
   "version": "3.6.1"
  }
 },
 "nbformat": 4,
 "nbformat_minor": 2
}
