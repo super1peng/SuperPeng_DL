{
 "cells": [
  {
   "cell_type": "code",
   "execution_count": 1,
   "metadata": {},
   "outputs": [
    {
     "name": "stderr",
     "output_type": "stream",
     "text": [
      "/Library/Frameworks/Python.framework/Versions/3.6/lib/python3.6/importlib/_bootstrap.py:205: RuntimeWarning: numpy.dtype size changed, may indicate binary incompatibility. Expected 96, got 88\n",
      "  return f(*args, **kwds)\n"
     ]
    }
   ],
   "source": [
    "# 简单的有2个隐层的神经网络模型\n",
    "# 输入层 784*bathch \n",
    "# 第一个隐藏层 有256个神经元 ==> W1:784*256 b1:256*1\n",
    "# 第二个隐藏层 有128个神经元 ==> W2:256*128 b2:128*1\n",
    "# 输出层 ==> out:128*10 b_out:10*1\n",
    "import numpy\n",
    "import tensorflow as tf\n",
    "import matplotlib.pyplot as plt\n",
    "from tensorflow.examples.tutorials.mnist import input_data"
   ]
  },
  {
   "cell_type": "code",
   "execution_count": 2,
   "metadata": {},
   "outputs": [
    {
     "name": "stdout",
     "output_type": "stream",
     "text": [
      "Extracting ./data/train-images-idx3-ubyte.gz\n",
      "Extracting ./data/train-labels-idx1-ubyte.gz\n",
      "Extracting ./data/t10k-images-idx3-ubyte.gz\n",
      "Extracting ./data/t10k-labels-idx1-ubyte.gz\n"
     ]
    }
   ],
   "source": [
    "mnist  = input_data.read_data_sets('./data', one_hot=True)"
   ]
  },
  {
   "cell_type": "code",
   "execution_count": 9,
   "metadata": {},
   "outputs": [
    {
     "name": "stdout",
     "output_type": "stream",
     "text": [
      "Network Ready\n"
     ]
    }
   ],
   "source": [
    "# 神经网络结构参数的一些设置\n",
    "n_hidden_1 = 256  # 隐藏层1\n",
    "n_hidden_2 = 128  # 隐藏层2\n",
    "n_input = 784   # 输入层\n",
    "n_classes = 10  # 输出层\n",
    "\n",
    "# 输出层和输入层接口\n",
    "x = tf.placeholder(\"float\",[None, n_input])\n",
    "y = tf.placeholder(\"float\",[None, n_classes])\n",
    "\n",
    "stddev = 0.1\n",
    "weights = {\n",
    "    'w1':tf.Variable(tf.random_normal([n_input, n_hidden_1],stddev=stddev)),\n",
    "    'w2':tf.Variable(tf.random_normal([n_hidden_1, n_hidden_2],stddev=stddev)),\n",
    "    'out':tf.Variable(tf.random_normal([n_hidden_2, n_classes],stddev=stddev))\n",
    "}\n",
    "\n",
    "biases = {\n",
    "    'b1':tf.Variable(tf.random_normal([n_hidden_1])), # 这里的b值可以进行高斯初始化也可以进行0值初始化\n",
    "    'b2':tf.Variable(tf.random_normal([n_hidden_2])),\n",
    "    'out':tf.Variable(tf.random_normal([n_classes]))\n",
    "}\n",
    "print(\"Network Ready\")"
   ]
  },
  {
   "cell_type": "code",
   "execution_count": 10,
   "metadata": {},
   "outputs": [],
   "source": [
    "# 前向传播\n",
    "def multilayer_perceptron(_X, _weights, _biases):\n",
    "    layer_1 = tf.nn.sigmoid(tf.add(tf.matmul(_X, _weights['w1']), _biases['b1']))\n",
    "    layer_2 = tf.nn.sigmoid(tf.add(tf.matmul(layer_1, _weights['w2']), _biases['b2']))\n",
    "    return (tf.matmul(layer_2, _weights['out']) + _biases['out'])  # 最后的输出没有sigmoid"
   ]
  },
  {
   "cell_type": "code",
   "execution_count": 12,
   "metadata": {},
   "outputs": [
    {
     "name": "stdout",
     "output_type": "stream",
     "text": [
      "Function Ready\n"
     ]
    }
   ],
   "source": [
    "# 预测函数\n",
    "pred = multilayer_perceptron(x, weights, biases)\n",
    "\n",
    "# 损失函数的定义\n",
    "cost = tf.reduce_mean(tf.nn.softmax_cross_entropy_with_logits(logits=pred,labels=y))\n",
    "optm = tf.train.GradientDescentOptimizer(learning_rate=0.001).minimize(cost) # learning rate 设置为0.001\n",
    "corr = tf.equal(tf.argmax(pred, 1), tf.argmax(y,1))\n",
    "accr = tf.reduce_mean(tf.cast(corr, \"float\"))\n",
    "\n",
    "# 变量初始化操作\n",
    "init = tf.global_variables_initializer()\n",
    "print(\"Function Ready\")"
   ]
  },
  {
   "cell_type": "code",
   "execution_count": 13,
   "metadata": {},
   "outputs": [
    {
     "name": "stdout",
     "output_type": "stream",
     "text": [
      "Epoch: 003/020 cost: 2.275243405\n",
      "TRAIN ACCURACY: 0.120\n",
      "TEST ACCURACY: 0.157\n",
      "Epoch: 007/020 cost: 2.242115716\n",
      "TRAIN ACCURACY: 0.340\n",
      "TEST ACCURACY: 0.308\n",
      "Epoch: 011/020 cost: 2.205320895\n",
      "TRAIN ACCURACY: 0.360\n",
      "TEST ACCURACY: 0.438\n",
      "Epoch: 015/020 cost: 2.162627060\n",
      "TRAIN ACCURACY: 0.450\n",
      "TEST ACCURACY: 0.516\n",
      "Epoch: 019/020 cost: 2.111885239\n",
      "TRAIN ACCURACY: 0.520\n",
      "TEST ACCURACY: 0.553\n",
      "OPTIMIZATION FINISHED\n"
     ]
    }
   ],
   "source": [
    "# 定义一些超参数\n",
    "training_epochs = 20\n",
    "batch_size = 100\n",
    "display_step = 4\n",
    "\n",
    "sess = tf.Session()\n",
    "sess.run(init)\n",
    "\n",
    "for epoch in range(training_epochs):\n",
    "    avg_cost = 0.\n",
    "    total_batch = int(mnist.train.num_examples/batch_size)\n",
    "    \n",
    "    for i in range(total_batch):\n",
    "        batch_xs, batch_ys = mnist.train.next_batch(batch_size)\n",
    "        feeds = {x:batch_xs, y:batch_ys}\n",
    "        sess.run(optm, feed_dict=feeds)\n",
    "        avg_cost += sess.run(cost, feed_dict=feeds)\n",
    "    avg_cost =avg_cost / total_batch\n",
    "    \n",
    "    # disply\n",
    "    if (epoch+1) % display_step == 0:\n",
    "        print(\"Epoch: %03d/%03d cost: %.9f\" % (epoch, training_epochs, avg_cost))\n",
    "        feeds = {x:batch_xs, y:batch_ys}\n",
    "        train_acc = sess.run(accr, feed_dict=feeds)\n",
    "        print(\"TRAIN ACCURACY: %.3f\" % (train_acc))\n",
    "        feeds = {x:mnist.test.images, y:mnist.test.labels}\n",
    "        test_acc = sess.run(accr, feed_dict=feeds)\n",
    "        print(\"TEST ACCURACY: %.3f\" % (test_acc))\n",
    "print(\"OPTIMIZATION FINISHED\")"
   ]
  },
  {
   "cell_type": "code",
   "execution_count": null,
   "metadata": {},
   "outputs": [],
   "source": []
  }
 ],
 "metadata": {
  "kernelspec": {
   "display_name": "Python 3",
   "language": "python",
   "name": "python3"
  },
  "language_info": {
   "codemirror_mode": {
    "name": "ipython",
    "version": 3
   },
   "file_extension": ".py",
   "mimetype": "text/x-python",
   "name": "python",
   "nbconvert_exporter": "python",
   "pygments_lexer": "ipython3",
   "version": "3.6.1"
  }
 },
 "nbformat": 4,
 "nbformat_minor": 2
}
