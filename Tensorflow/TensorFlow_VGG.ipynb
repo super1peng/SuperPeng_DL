{
 "cells": [
  {
   "cell_type": "code",
   "execution_count": 1,
   "metadata": {},
   "outputs": [],
   "source": [
    "# VGG_19 cnn网络"
   ]
  },
  {
   "cell_type": "code",
   "execution_count": 2,
   "metadata": {
    "scrolled": true
   },
   "outputs": [
    {
     "name": "stderr",
     "output_type": "stream",
     "text": [
      "/Library/Frameworks/Python.framework/Versions/3.6/lib/python3.6/importlib/_bootstrap.py:205: RuntimeWarning: numpy.dtype size changed, may indicate binary incompatibility. Expected 96, got 88\n",
      "  return f(*args, **kwds)\n"
     ]
    }
   ],
   "source": [
    "import scipy.io\n",
    "import numpy as np\n",
    "import os\n",
    "import scipy.misc\n",
    "import matplotlib.pyplot as plt\n",
    "import tensorflow as tf"
   ]
  },
  {
   "cell_type": "code",
   "execution_count": 4,
   "metadata": {},
   "outputs": [
    {
     "name": "stdout",
     "output_type": "stream",
     "text": [
      "Function For Vgg Ready\n"
     ]
    }
   ],
   "source": [
    "def _conv_layer(input, weights, bias): # 卷积层\n",
    "    conv = tf.nn.conv2d(input, tf.constant(weights), strides=(1,1,1,1),padding=\"SAME\")\n",
    "    return tf.nn.bias_add(conv, bias)\n",
    "\n",
    "def _pool_layer(input):  # 池化层\n",
    "    return tf.nn.max_pool(input, ksize=(1,2,2,1), strides=(1,2,2,1), padding=\"SAME\")\n",
    "\n",
    "def preprocess(image, mean_pixel): # 预处理  去中心化\n",
    "    return image - mean_pixel\n",
    "\n",
    "def  unprocess(image, mean_pixel): # 将数据还原\n",
    "    return image + mean_pixel\n",
    "\n",
    "def imread(path):\n",
    "    return scipy.misc.imread(path).astype(np.float)\n",
    "\n",
    "def imsave(path, img):\n",
    "    img = np.clip(img, 0, 255).astype(np.uint8)\n",
    "    scipy.misc.imsave(path, img)\n",
    "\n",
    "print(\"Function For Vgg Ready\")"
   ]
  },
  {
   "cell_type": "code",
   "execution_count": 5,
   "metadata": {},
   "outputs": [
    {
     "name": "stdout",
     "output_type": "stream",
     "text": [
      "Network For Vgg Ready\n"
     ]
    }
   ],
   "source": [
    "def net(data_path, input_image): # 整个VGG网络的搭建\n",
    "    layers = (\n",
    "        'conv1_1', 'relu1_1', 'conv1_2', 'relu1_2', 'pool1',\n",
    "        'conv2_1', 'relu2_1', 'conv2_2', 'relu2_2', 'pool2',\n",
    "        'conv3_1', 'relu3_1', 'conv3_2', 'relu3_2', 'conv3_3',\n",
    "        'relu3_3', 'conv3_4', 'relu3_4', 'pool3',\n",
    "        'conv4_1', 'relu4_1', 'conv4_2', 'relu4_2', 'conv4_3',\n",
    "        'relu4_3', 'conv4_4', 'relu4_4', 'pool4',\n",
    "        'conv5_1', 'relu5_1', 'conv5_2', 'relu5_2', 'conv5_3',\n",
    "        'relu5_3', 'conv5_4', 'relu5_4'\n",
    "    )\n",
    "    \n",
    "    data = scipy.io.loadmat(data_path)  # 读取数据\n",
    "    \n",
    "    mean = data['normalization'][0][0][0]  # 取数据的平均值\n",
    "    mean_pixel = np.mean(mean, axis=(0,1))\n",
    "    \n",
    "    weights = data['layers'][0]\n",
    "    net = {}  # 保留每次特征提取后的值\n",
    "    current = input_image\n",
    "    \n",
    "    for i, name in enumerate(layers):\n",
    "        kind = name[:4]   # 取每层操作 操作名的前4个，\n",
    "        if kind == 'conv':  # conv1_1 取前四个值为 conv\n",
    "            kernels, bias = weights[i][0][0][0][0] # kernel 存储的是权重 bias 存储的是偏置\n",
    "            \n",
    "            # 备注：\n",
    "            # matconvnet: weights are [width, height, in_channels, out_channel]\n",
    "            # tensorflow: weights are [height, width, in_channels, out_channel]\n",
    "            \n",
    "            # 所以这里要将读取的权重进行转换\n",
    "            kernels = np.transpose(kernels,(1,0,2,3))\n",
    "            \n",
    "            bias = bias.reshape(-1) # 将偏置转化为1维列向量\n",
    "            current = _conv_layer(current, kernels, bias)\n",
    "        elif kind == 'relu': # ‘relu1_1’取前四个为 relu\n",
    "            current = tf.nn.relu(current)\n",
    "        \n",
    "        elif kind == 'pool':\n",
    "            current = _pool_layer(current)\n",
    "        \n",
    "        net[name] = current # 保存每次操作完成之后的数据\n",
    "    assert len(net) == len(layers)\n",
    "    \n",
    "    return net, mean_pixel, layers\n",
    "\n",
    "print(\"Network For Vgg Ready\")"
   ]
  },
  {
   "cell_type": "code",
   "execution_count": null,
   "metadata": {},
   "outputs": [],
   "source": [
    "cwd = os.getcwd()\n",
    "VGG_PATH = cwd + \"/data/imagenet-vgg-verydeep-19.mat\" # 加载VGG模型\n",
    "IMG_PATH = cwd + \"/data/cat.jpg\"\n",
    "input_image = imread(IMG_PATH)\n",
    "shape = (1, input_image.shape[0], input_image.shape[0],input_image[2])# 输入的图片为三通道\n",
    "\n",
    "with tf.Session() as sess:\n",
    "    image = tf.placeholder('float', shape=shape)\n",
    "    nets, mean_pixel, all_layers = net(VGG_PATH, image)\n",
    "    input_image_pre = np.array([preprocess(input_image, mean_pixel)])\n",
    "    layers = all_layers\n",
    "    \n",
    "    for i, layer in enumerate(layers):\n",
    "        print(\"[%d/%d] %s\" % (i+1, len(layers), layer))\n",
    "        features = nets[layer].eval(feed_dict={image: input_image_pre}) # 将数据喂给训练好的模型\n",
    "        \n",
    "        print (\" Type of 'features' is \", type(features))\n",
    "        print (\" Shape of 'features' is %s\" % (features.shape,))\n",
    "        \n",
    "        # 画出图像\n",
    "        if 1:\n",
    "            plt.figure(i+1, figsize=(10, 5))\n",
    "            plt.matshow(features[0, :, :, 0], cmap=plt.cm.gray, fignum=i+1)\n",
    "            plt.title(\"\" + layer)\n",
    "            plt.colorbar()\n",
    "            plt.show()"
   ]
  }
 ],
 "metadata": {
  "kernelspec": {
   "display_name": "Python 3",
   "language": "python",
   "name": "python3"
  },
  "language_info": {
   "codemirror_mode": {
    "name": "ipython",
    "version": 3
   },
   "file_extension": ".py",
   "mimetype": "text/x-python",
   "name": "python",
   "nbconvert_exporter": "python",
   "pygments_lexer": "ipython3",
   "version": "3.6.1"
  }
 },
 "nbformat": 4,
 "nbformat_minor": 2
}
