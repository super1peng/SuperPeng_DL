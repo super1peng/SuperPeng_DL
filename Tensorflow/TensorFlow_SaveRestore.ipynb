{
 "cells": [
  {
   "cell_type": "code",
   "execution_count": 2,
   "metadata": {},
   "outputs": [
    {
     "name": "stdout",
     "output_type": "stream",
     "text": [
      "V1: [[-1.23096478  1.57291186]]\n",
      "V2: [[-0.95839381 -0.40103793 -0.98171252]\n",
      " [ 0.82970071  0.13115966  0.13180827]]\n",
      "Model Saved in File:  save/model.ckpt\n"
     ]
    }
   ],
   "source": [
    "# 保存模型\n",
    "import tensorflow as tf\n",
    "\n",
    "v1 = tf.Variable(tf.random_normal([1,2]), name=\"v1\")\n",
    "v2 = tf.Variable(tf.random_normal([2,3]), name=\"v2\")\n",
    "\n",
    "init_op = tf.global_variables_initializer()\n",
    "\n",
    "saver = tf.train.Saver() # 初始一个saver类，帮助我们进行模型的保存\n",
    "\n",
    "with tf.Session() as sess:\n",
    "    sess.run(init_op)\n",
    "    print(\"V1:\", sess.run(v1))\n",
    "    print(\"V2:\", sess.run(v2))\n",
    "    saver_path = saver.save(sess, \"save/model.ckpt\") # 使用saver将sess计算域存储下来\n",
    "    print(\"Model Saved in File: \", saver_path)"
   ]
  },
  {
   "cell_type": "code",
   "execution_count": 1,
   "metadata": {},
   "outputs": [
    {
     "name": "stdout",
     "output_type": "stream",
     "text": [
      "INFO:tensorflow:Restoring parameters from save/model.ckpt\n",
      "V1: [[-1.23096478  1.57291186]]\n",
      "V2: [[-0.95839381 -0.40103793 -0.98171252]\n",
      " [ 0.82970071  0.13115966  0.13180827]]\n",
      "Model restored\n"
     ]
    }
   ],
   "source": [
    "# 调试此步骤需要restart the kernel\n",
    "\n",
    "# 读取模型\n",
    "import tensorflow as tf\n",
    "v1 = tf.Variable(tf.random_normal([1,2]), name=\"v1\")\n",
    "v2 = tf.Variable(tf.random_normal([2,3]), name=\"v2\")\n",
    "saver = tf.train.Saver()\n",
    "\n",
    "with tf.Session() as sess:\n",
    "    saver.restore(sess, \"save/model.ckpt\")\n",
    "    print(\"V1:\", sess.run(v1))\n",
    "    print(\"V2:\", sess.run(v2))\n",
    "    print(\"Model restored\")"
   ]
  },
  {
   "cell_type": "code",
   "execution_count": null,
   "metadata": {},
   "outputs": [],
   "source": []
  }
 ],
 "metadata": {
  "kernelspec": {
   "display_name": "Python 3",
   "language": "python",
   "name": "python3"
  },
  "language_info": {
   "codemirror_mode": {
    "name": "ipython",
    "version": 3
   },
   "file_extension": ".py",
   "mimetype": "text/x-python",
   "name": "python",
   "nbconvert_exporter": "python",
   "pygments_lexer": "ipython3",
   "version": "3.6.1"
  }
 },
 "nbformat": 4,
 "nbformat_minor": 2
}
